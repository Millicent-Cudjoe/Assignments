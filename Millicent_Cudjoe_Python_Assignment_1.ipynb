{
  "nbformat": 4,
  "nbformat_minor": 0,
  "metadata": {
    "colab": {
      "provenance": []
    },
    "kernelspec": {
      "name": "python3",
      "display_name": "Python 3"
    },
    "language_info": {
      "name": "python"
    }
  },
  "cells": [
    {
      "cell_type": "code",
      "execution_count": 2,
      "metadata": {
        "id": "rhbxtrlrDkZj"
      },
      "outputs": [],
      "source": [
        "# Section 1: Numerical Data Types & Arithmetic Operators\n",
        "# Question 1: The Road Trip Planner\n",
        "\n",
        "fuel_efficiency = 11.5  # kilometers per liter\n",
        "total_distance = 475  # kilometers\n",
        "fuel_price = 1.65  # $ per liter\n",
        "tank_capacity = 50  # liters\n",
        "\n"
      ]
    },
    {
      "cell_type": "code",
      "source": [
        "# a. How many liters of fuel needed for the trip?\n",
        "\n",
        "fuel_needed = total_distance / fuel_efficiency\n",
        "print(\"a. Liters of fuel needed:\", fuel_needed)\n",
        "\n",
        "# Explanation:To calculate the fuel needed, divide the total distance (475 km) by how far the car can travel per liter (11.5 km/liter). This gives the total liters required for the trip."
      ],
      "metadata": {
        "colab": {
          "base_uri": "https://localhost:8080/"
        },
        "id": "7ZvymEtbFbSe",
        "outputId": "ab56fa09-e72e-4adc-9149-f4e1acf98da5"
      },
      "execution_count": 3,
      "outputs": [
        {
          "output_type": "stream",
          "name": "stdout",
          "text": [
            "a. Liters of fuel needed: 41.30434782608695\n"
          ]
        }
      ]
    },
    {
      "cell_type": "code",
      "source": [
        "# b. How many full tanks of fuel does this represent? (Use an operator that gives you the whole number of tanks).\n",
        "\n",
        "full_tanks = fuel_needed // tank_capacity\n",
        "print(full_tanks)\n",
        "\n",
        "# Explanation: We use floor division (//) to get the whole number of full tanks needed. Since one tank (50L) can cover the trip, the answer is 0.0, meaning the trip doesn’t require a second full tank."
      ],
      "metadata": {
        "colab": {
          "base_uri": "https://localhost:8080/"
        },
        "id": "RNFIEtLrGe2W",
        "outputId": "b11fcc8e-11ac-4a7c-ceae-717ec8e77e88"
      },
      "execution_count": 4,
      "outputs": [
        {
          "output_type": "stream",
          "name": "stdout",
          "text": [
            "0.0\n"
          ]
        }
      ]
    },
    {
      "cell_type": "code",
      "source": [
        "# c. What is the total estimated fuel cost for the trip (based on the fuel needed)?\n",
        "\n",
        "total_cost = fuel_needed * fuel_price\n",
        "print(total_cost)\n",
        "\n",
        "# Explanation: Multiply the number of liters required by the cost per liter. This gives the total amount you'll spend on fuel."
      ],
      "metadata": {
        "colab": {
          "base_uri": "https://localhost:8080/"
        },
        "id": "NVV5iOf2HItq",
        "outputId": "97203ada-c7bd-4a8c-e266-5c4376a5cc5a"
      },
      "execution_count": 5,
      "outputs": [
        {
          "output_type": "stream",
          "name": "stdout",
          "text": [
            "68.15217391304347\n"
          ]
        }
      ]
    },
    {
      "cell_type": "code",
      "source": [
        "# d. After completing the trip, how many liters of fuel will be remaining in your tank if you started full and only refueled the exact amount needed? (Hint: Think about the fuel used from the last full tank).\n",
        "\n",
        "fuel_remaining = tank_capacity - fuel_needed\n",
        "print(fuel_remaining)\n",
        "\n",
        "# Explanation: Subtract the amount of fuel used from your full tank capacity (50 liters) to get how much fuel remains after the trip."
      ],
      "metadata": {
        "colab": {
          "base_uri": "https://localhost:8080/"
        },
        "id": "fnSDoO1gH9Zj",
        "outputId": "a1f1ce55-7d3e-4572-adb8-3e26a08f1e54"
      },
      "execution_count": 6,
      "outputs": [
        {
          "output_type": "stream",
          "name": "stdout",
          "text": [
            "8.695652173913047\n"
          ]
        }
      ]
    },
    {
      "cell_type": "code",
      "source": [
        "# Section 2: Comparison & Logical Operators\n",
        "# Question 2: Theme Park Entry Rules\n",
        "\n",
        "# Initial values\n",
        "age = 30\n",
        "is_weekday = True\n",
        "is_family_day = False\n",
        "group_size = 3"
      ],
      "metadata": {
        "id": "twynrfPhIbOD"
      },
      "execution_count": 7,
      "outputs": []
    },
    {
      "cell_type": "code",
      "source": [
        "# Write a single, comprehensive Python boolean expression that evaluates to True if a person with the current variable values qualifies for a discount, and False otherwise. Show the expression and its result.\n",
        "\n",
        "discount = (age <= 12 and is_weekday) or (age >= 65) or (is_family_day and group_size >= 4)\n",
        "print(\"a. Eligible for discount:\", discount)\n",
        "\n",
        "# Explanation: Age 30 → not a child or senior. Not Family Day and group < 4. All conditions are False → no discount.\n"
      ],
      "metadata": {
        "colab": {
          "base_uri": "https://localhost:8080/"
        },
        "id": "6kwwk0XJJTLY",
        "outputId": "26c8647b-4b77-48e1-fd76-6914c28d9460"
      },
      "execution_count": 8,
      "outputs": [
        {
          "output_type": "stream",
          "name": "stdout",
          "text": [
            "a. Eligible for discount: False\n"
          ]
        }
      ]
    },
    {
      "cell_type": "code",
      "source": [
        "# b. Now, change the variables to: age = 10, is_weekday = True, is_family_day = False, group_size = 2. Evaluate your boolean expression from part (a) with these new values. Show the result.\n",
        "\n",
        "age = 10\n",
        "is_weekday = True\n",
        "is_family_day = False\n",
        "group_size = 2\n",
        "\n",
        "discount = (age <= 12 and is_weekday) or (age >= 65) or (is_family_day and group_size >= 4)\n",
        "print(\"b. Eligible for discount:\", discount)\n",
        "\n",
        "# Explanation: The age is 10, and it’s a weekday. → The child's condition is met. → A discount applies."
      ],
      "metadata": {
        "colab": {
          "base_uri": "https://localhost:8080/"
        },
        "id": "hsjdfGhhKP0n",
        "outputId": "e2ce1b91-bf91-46d2-ef75-e26ccf8132c6"
      },
      "execution_count": 9,
      "outputs": [
        {
          "output_type": "stream",
          "name": "stdout",
          "text": [
            "b. Eligible for discount: True\n"
          ]
        }
      ]
    },
    {
      "cell_type": "code",
      "source": [
        "# c. For the scenario in part (b), explain step-by-step how Python evaluates your boolean expression. Describe the result of each comparison and how the and/or operators combine these results to reach the final answer.\n",
        "\n",
        "print(\"c. Step-by-step:\")\n",
        "print(\" - age <= 12:\", age <= 12)\n",
        "print(\" - is_weekday:\", is_weekday)\n",
        "print(\" - (age <= 12 and is_weekday):\", age <= 12 and is_weekday)\n",
        "print(\" - age >= 65:\", age >= 65)\n",
        "print(\" - is_family_day and group_size >= 4:\", is_family_day and group_size >= 4)\n",
        "print(\" - Final discount eligibility:\", discount)\n",
        "\n",
        "# Explanation: First two parts are True (child and weekday), the Other two are False, True or False or False = True"
      ],
      "metadata": {
        "colab": {
          "base_uri": "https://localhost:8080/"
        },
        "id": "yAe2Y5NMLa2y",
        "outputId": "4cad36e2-652f-4428-b47c-7c6ddbec4421"
      },
      "execution_count": 10,
      "outputs": [
        {
          "output_type": "stream",
          "name": "stdout",
          "text": [
            "c. Step-by-step:\n",
            " - age <= 12: True\n",
            " - is_weekday: True\n",
            " - (age <= 12 and is_weekday): True\n",
            " - age >= 65: False\n",
            " - is_family_day and group_size >= 4: False\n",
            " - Final discount eligibility: True\n"
          ]
        }
      ]
    },
    {
      "cell_type": "code",
      "source": [
        "# Section 3: String Data Types, Indexing & Slicing\n",
        "# Question 3: Message Decoder\n",
        "\n",
        "secret_message = \"PyThoN_Is_FuN_AnD_PoWeRfUl!\""
      ],
      "metadata": {
        "id": "8_RLJ2KLOOGv"
      },
      "execution_count": 11,
      "outputs": []
    },
    {
      "cell_type": "code",
      "source": [
        "# a. What is the character at index 5 of secret_message?\n",
        "\n",
        "print(\"a. Character at index 5:\", secret_message[5])\n",
        "\n",
        "# Explanation: Indexing starts from 0, so index 5 is the sixth character – N."
      ],
      "metadata": {
        "colab": {
          "base_uri": "https://localhost:8080/"
        },
        "id": "bwmsHZrIPVWI",
        "outputId": "3920705f-4c91-46dc-c65d-c623ea17bb7e"
      },
      "execution_count": 12,
      "outputs": [
        {
          "output_type": "stream",
          "name": "stdout",
          "text": [
            "a. Character at index 5: N\n"
          ]
        }
      ]
    },
    {
      "cell_type": "code",
      "source": [
        "# b. Using positive indexing and slicing, extract the substring \"Is_FuN\".\n",
        "\n",
        "print(\"b. 'Is_FuN':\", secret_message[7:13])\n",
        "\n",
        "# Explanation: Start at index 7 (I), stop before 13 (underscore after N) → gives \"Is_FuN\"."
      ],
      "metadata": {
        "colab": {
          "base_uri": "https://localhost:8080/"
        },
        "id": "iD_j5mAbPxzm",
        "outputId": "57f3e5b2-fb8d-4985-fb53-7b04c9e507bc"
      },
      "execution_count": 13,
      "outputs": [
        {
          "output_type": "stream",
          "name": "stdout",
          "text": [
            "b. 'Is_FuN': Is_FuN\n"
          ]
        }
      ]
    },
    {
      "cell_type": "code",
      "source": [
        "# c. Using negative indexing and slicing, extract the substring \"PoWeRfUl\".\n",
        "\n",
        "print(\"c. 'PoWeRfUl':\", secret_message[-9:-1])\n",
        "\n",
        "# Explanation: Negative indices count from the end. -9 is 'P', -1 is '!' (not included) → gives \"PoWeRfUl\"."
      ],
      "metadata": {
        "colab": {
          "base_uri": "https://localhost:8080/"
        },
        "id": "1zjN8KnjQQkE",
        "outputId": "51944962-7f4d-4782-e0b2-5b61872608dc"
      },
      "execution_count": 14,
      "outputs": [
        {
          "output_type": "stream",
          "name": "stdout",
          "text": [
            "c. 'PoWeRfUl': PoWeRfUl\n"
          ]
        }
      ]
    },
    {
      "cell_type": "code",
      "source": [
        "# d. Create a new string that consists of every 4th character of secret_message, starting from the first character (index 0). (For example, if the string was \"ABCDEFGHI\", the result would be \"AEI\"). Show the slicing expression you used and the resulting string.\n",
        "\n",
        "print(\"d. Every 4th character:\", secret_message[0::4])\n",
        "\n",
        "# Explanation: This uses slicing with step size 4. It starts from index 0 and selects every 4th character."
      ],
      "metadata": {
        "colab": {
          "base_uri": "https://localhost:8080/"
        },
        "id": "jljPeCm0RHTc",
        "outputId": "a401ed9f-adbf-4943-9583-b094f51c1d7d"
      },
      "execution_count": 15,
      "outputs": [
        {
          "output_type": "stream",
          "name": "stdout",
          "text": [
            "d. Every 4th character: PosNDWU\n"
          ]
        }
      ]
    },
    {
      "cell_type": "code",
      "source": [
        "# e. If you try to access secret_message[50], what happens? Explain this result in your own words, referring to the concept of string length.\n",
        "print(secret_message[50])\n",
        "# Explanation: The string is shorter than 51 characters. Trying to access an index beyond its length causes an IndexError."
      ],
      "metadata": {
        "colab": {
          "base_uri": "https://localhost:8080/",
          "height": 179
        },
        "id": "yflmvPiATPGg",
        "outputId": "ce7a06cd-1109-4ff1-9074-fb19146ed385"
      },
      "execution_count": 19,
      "outputs": [
        {
          "output_type": "error",
          "ename": "IndexError",
          "evalue": "string index out of range",
          "traceback": [
            "\u001b[0;31m---------------------------------------------------------------------------\u001b[0m",
            "\u001b[0;31mIndexError\u001b[0m                                Traceback (most recent call last)",
            "\u001b[0;32m<ipython-input-19-88e91f03b1f4>\u001b[0m in \u001b[0;36m<cell line: 0>\u001b[0;34m()\u001b[0m\n\u001b[1;32m      1\u001b[0m \u001b[0;31m# e. If you try to access secret_message[50], what happens? Explain this result in your own words, referring to the concept of string length.\u001b[0m\u001b[0;34m\u001b[0m\u001b[0;34m\u001b[0m\u001b[0m\n\u001b[0;32m----> 2\u001b[0;31m \u001b[0mprint\u001b[0m\u001b[0;34m(\u001b[0m\u001b[0msecret_message\u001b[0m\u001b[0;34m[\u001b[0m\u001b[0;36m50\u001b[0m\u001b[0;34m]\u001b[0m\u001b[0;34m)\u001b[0m\u001b[0;34m\u001b[0m\u001b[0;34m\u001b[0m\u001b[0m\n\u001b[0m\u001b[1;32m      3\u001b[0m \u001b[0;31m# Explanation: The string is shorter than 51 characters. Trying to access an index beyond its length causes an IndexError.\u001b[0m\u001b[0;34m\u001b[0m\u001b[0;34m\u001b[0m\u001b[0m\n",
            "\u001b[0;31mIndexError\u001b[0m: string index out of range"
          ]
        }
      ]
    },
    {
      "cell_type": "code",
      "source": [
        "# Section 4: Boolean Values & Expressions\n",
        "# Question 4: Predict and Verify\n",
        "\n",
        "x = 15\n",
        "y = 25\n",
        "z = 15\n",
        "text = \"adventure\""
      ],
      "metadata": {
        "id": "CuqCg69FT0k2"
      },
      "execution_count": 20,
      "outputs": []
    },
    {
      "cell_type": "code",
      "source": [
        "#  a. (x == z) and (y > x) (5 marks)\n",
        "print(\"a. Result:\", (x == z) and (y > x))\n",
        "\n",
        "# Explanation: x equals z (15 == 15) and y is greater than x (25 > 15) → both conditions True → result is True."
      ],
      "metadata": {
        "colab": {
          "base_uri": "https://localhost:8080/"
        },
        "id": "2p1oHKrXUYSE",
        "outputId": "3737754d-9a60-4ad1-b870-68b863040f13"
      },
      "execution_count": 21,
      "outputs": [
        {
          "output_type": "stream",
          "name": "stdout",
          "text": [
            "a. Result: True\n"
          ]
        }
      ]
    },
    {
      "cell_type": "code",
      "source": [
        "# b. (x != z) or (y < x) or (len(text) < 5)\n",
        "print(\"b. Result:\", (x != z) or (y < x) or (len(text) < 5))\n",
        "\n",
        "# Explanation: x != z → False, y < x → False, len(text) = 9 → not < 5 → False, All parts are False → result is False"
      ],
      "metadata": {
        "colab": {
          "base_uri": "https://localhost:8080/"
        },
        "id": "O0pGotnQVUDL",
        "outputId": "51231197-1ed6-4a19-92c0-3cf276ae3b3a"
      },
      "execution_count": 22,
      "outputs": [
        {
          "output_type": "stream",
          "name": "stdout",
          "text": [
            "b. Result: False\n"
          ]
        }
      ]
    },
    {
      "cell_type": "code",
      "source": [
        "# c. not ((x > y) and (text == \"Adventure\")) (Note the case difference in \"Adventure\")\n",
        "print(\"c. Result:\", not ((x > y) and (text == \"Adventure\")))\n",
        "\n",
        "# Explanation: x > y → 15 > 25 → False, \"adventure\" != \"Adventure\" (case-sensitive) → False, False and False → False, not False → True"
      ],
      "metadata": {
        "colab": {
          "base_uri": "https://localhost:8080/"
        },
        "id": "bzL2TTCEWHXT",
        "outputId": "d429b0c6-ec60-4067-d7bd-532ee6bd4803"
      },
      "execution_count": 23,
      "outputs": [
        {
          "output_type": "stream",
          "name": "stdout",
          "text": [
            "c. Result: True\n"
          ]
        }
      ]
    },
    {
      "cell_type": "code",
      "source": [
        "# Section 5: String Properties & Basic Methods\n",
        "# Question 5: User Profile Setup\n",
        "# You are working on a simple user profile system."
      ],
      "metadata": {
        "id": "t0iwcRU6WyS8"
      },
      "execution_count": 25,
      "outputs": []
    },
    {
      "cell_type": "code",
      "source": [
        "# a. A user tries to set their username: username = \"MyUser123\". Later, they want to change the first letter to lowercase directly: username[0] = 'm'. What happens when this code is executed? Explain this behavior in the context of a key property of strings in Python.\n",
        "username = \"MyUser123\"\n",
        "username[0] = 'm'\n",
        "\n",
        "# Explanation: Strings are immutable in Python – their characters cannot be changed after creation."
      ],
      "metadata": {
        "colab": {
          "base_uri": "https://localhost:8080/",
          "height": 232
        },
        "id": "C0BKa4o9XM-2",
        "outputId": "c048dded-ca13-45d6-e4c2-0d74310e2292"
      },
      "execution_count": 30,
      "outputs": [
        {
          "output_type": "error",
          "ename": "TypeError",
          "evalue": "'str' object does not support item assignment",
          "traceback": [
            "\u001b[0;31m---------------------------------------------------------------------------\u001b[0m",
            "\u001b[0;31mTypeError\u001b[0m                                 Traceback (most recent call last)",
            "\u001b[0;32m<ipython-input-30-8e6991f24e4c>\u001b[0m in \u001b[0;36m<cell line: 0>\u001b[0;34m()\u001b[0m\n\u001b[1;32m      1\u001b[0m \u001b[0;31m# a. A user tries to set their username: username = \"MyUser123\". Later, they want to change the first letter to lowercase directly: username[0] = 'm'. What happens when this code is executed? Explain this behavior in the context of a key property of strings in Python.\u001b[0m\u001b[0;34m\u001b[0m\u001b[0;34m\u001b[0m\u001b[0m\n\u001b[1;32m      2\u001b[0m \u001b[0musername\u001b[0m \u001b[0;34m=\u001b[0m \u001b[0;34m\"MyUser123\"\u001b[0m\u001b[0;34m\u001b[0m\u001b[0;34m\u001b[0m\u001b[0m\n\u001b[0;32m----> 3\u001b[0;31m \u001b[0musername\u001b[0m\u001b[0;34m[\u001b[0m\u001b[0;36m0\u001b[0m\u001b[0;34m]\u001b[0m \u001b[0;34m=\u001b[0m \u001b[0;34m'm'\u001b[0m\u001b[0;34m\u001b[0m\u001b[0;34m\u001b[0m\u001b[0m\n\u001b[0m\u001b[1;32m      4\u001b[0m \u001b[0;34m\u001b[0m\u001b[0m\n\u001b[1;32m      5\u001b[0m \u001b[0;31m# Explanation: Strings are immutable in Python – their characters cannot be changed after creation.\u001b[0m\u001b[0;34m\u001b[0m\u001b[0;34m\u001b[0m\u001b[0m\n",
            "\u001b[0;31mTypeError\u001b[0m: 'str' object does not support item assignment"
          ]
        }
      ]
    },
    {
      "cell_type": "code",
      "source": [
        "# b. Another user provides their favorite quote: quote = \" practice makes perfect \" Write Python code to perform the following transformations on this quote (apply them sequentially):\n",
        "# 1. Remove any leading or trailing whitespace.\n",
        "# 2. Convert the entire quote to uppercase.\n",
        "# 3. Replace the word \"PERFECT\" with \"PROGRESS\".\n",
        "# Store the final result in a variable called formatted_quote.\n",
        "# Show your code and the final value of formatted_quote. Explain what each string method you used does.\n",
        "\n",
        "quote = \" practice makes perfect \"\n",
        "formatted_quote = quote.strip().upper().replace(\"PERFECT\", \"PROGRESS\")\n",
        "print(\"b. Final formatted quote:\", formatted_quote)\n",
        "# Explanation: .strip() removes spaces from both ends. .upper() makes all letters uppercase. .replace() substitutes “PERFECT” with “PROGRESS”."
      ],
      "metadata": {
        "colab": {
          "base_uri": "https://localhost:8080/"
        },
        "id": "UMGwhlyiYmtr",
        "outputId": "182f33dd-f0dc-427a-a269-21981bdfedd3"
      },
      "execution_count": 32,
      "outputs": [
        {
          "output_type": "stream",
          "name": "stdout",
          "text": [
            "b. Final formatted quote: PRACTICE MAKES PROGRESS\n"
          ]
        }
      ]
    },
    {
      "cell_type": "code",
      "source": [
        "# c. What is the length of the original quote (including spaces) and the length of the formatted_quote? Show how you would find this using Python.\n",
        "print(\"c. Length of original quote:\", len(quote))\n",
        "print(\"   Length of formatted quote:\", len(formatted_quote))\n",
        "\n",
        "# Explanation: Original quote includes spaces. After trimming and replacing, the string is slightly shorter."
      ],
      "metadata": {
        "colab": {
          "base_uri": "https://localhost:8080/"
        },
        "id": "JyLu14OKZvLu",
        "outputId": "7783c133-3ddb-4d62-b88d-b64acf781b15"
      },
      "execution_count": 33,
      "outputs": [
        {
          "output_type": "stream",
          "name": "stdout",
          "text": [
            "c. Length of original quote: 24\n",
            "   Length of formatted quote: 23\n"
          ]
        }
      ]
    }
  ]
}